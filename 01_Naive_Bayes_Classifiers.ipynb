{
  "cells": [
    {
      "cell_type": "markdown",
      "source": [
        "#Выполнил Росляков Владислав Александрович ББМО-01-23"
      ],
      "metadata": {
        "id": "t5igTjqyxs9l"
      }
    },
    {
      "cell_type": "markdown",
      "metadata": {
        "id": "NCe4-7Iwxkg2"
      },
      "source": [
        "### Naive Bayes Classifiers"
      ]
    },
    {
      "cell_type": "markdown",
      "metadata": {
        "id": "c5Wy2ur5xkg3"
      },
      "source": [
        "It is a classification technique based on Bayes’ Theorem with an assumption of independence among predictors. In simple terms, a Naive Bayes classifier assumes that the presence of a particular feature in a class is unrelated to the presence of any other feature.\n",
        "\n",
        "For example, a fruit may be considered to be an apple if it is red, round, and about 3 inches in diameter. Even if these features depend on each other or upon the existence of the other features, all of these properties independently contribute to the probability that this fruit is an apple and that is why it is known as ‘Naive’.\n",
        "\n",
        "Naive Bayes model is easy to build and particularly useful for very large data sets. Along with simplicity, Naive Bayes is known to outperform even highly sophisticated classification methods.\n",
        "\n",
        "Bayes theorem provides a way of calculating posterior probability P(c|x) from P(c), P(x) and P(x|c). Look at the equation below:"
      ]
    },
    {
      "cell_type": "markdown",
      "metadata": {
        "id": "C0mFtPqkxkg3"
      },
      "source": [
        "### Import Libraries"
      ]
    },
    {
      "cell_type": "code",
      "execution_count": null,
      "metadata": {
        "tags": [],
        "id": "OzicDSQ4xkg3"
      },
      "outputs": [],
      "source": [
        "import numpy as np\n",
        "import pandas as pd\n",
        "import matplotlib.pyplot as plt"
      ]
    },
    {
      "cell_type": "markdown",
      "metadata": {
        "id": "tVLsK-Jnxkg4"
      },
      "source": [
        "### Import Dataset"
      ]
    },
    {
      "cell_type": "code",
      "execution_count": null,
      "metadata": {
        "tags": [],
        "id": "BMUBe-jExkg4"
      },
      "outputs": [],
      "source": [
        "df = pd.read_csv(r'emails.csv')"
      ]
    },
    {
      "cell_type": "code",
      "execution_count": null,
      "metadata": {
        "tags": [],
        "id": "CqTyiTNdxkg4"
      },
      "outputs": [],
      "source": [
        "del df['Unnamed: 2']\n",
        "del df['Unnamed: 3']\n",
        "df.head()"
      ]
    },
    {
      "cell_type": "code",
      "execution_count": null,
      "metadata": {
        "tags": [],
        "id": "39EyN3avxkg4"
      },
      "outputs": [],
      "source": [
        "df.isnull().sum()"
      ]
    },
    {
      "cell_type": "markdown",
      "metadata": {
        "id": "8yQ_WFBxxkg4"
      },
      "source": [
        "### Separate Dependent & Independent Value"
      ]
    },
    {
      "cell_type": "code",
      "execution_count": null,
      "metadata": {
        "tags": [],
        "id": "GJIFkDBAxkg4"
      },
      "outputs": [],
      "source": [
        "x = df.text.values\n",
        "y = df.spam.values"
      ]
    },
    {
      "cell_type": "markdown",
      "metadata": {
        "id": "6baX0x-fxkg4"
      },
      "source": [
        "### Split Train and Test Dataset"
      ]
    },
    {
      "cell_type": "code",
      "execution_count": null,
      "metadata": {
        "tags": [],
        "id": "2wYVxw4Kxkg4"
      },
      "outputs": [],
      "source": [
        "from sklearn.model_selection import train_test_split"
      ]
    },
    {
      "cell_type": "code",
      "execution_count": null,
      "metadata": {
        "tags": [],
        "id": "EDpR2NMjxkg4"
      },
      "outputs": [],
      "source": [
        "xtrain,xtest,ytrain,ytest = train_test_split(x,y,test_size=0.3)"
      ]
    },
    {
      "cell_type": "markdown",
      "metadata": {
        "id": "gqRiwBadxkg5"
      },
      "source": [
        "### Data Preprocessing"
      ]
    },
    {
      "cell_type": "code",
      "execution_count": null,
      "metadata": {
        "tags": [],
        "id": "7VX_ZU69xkg5"
      },
      "outputs": [],
      "source": [
        "from sklearn.feature_extraction.text import CountVectorizer"
      ]
    },
    {
      "cell_type": "code",
      "execution_count": null,
      "metadata": {
        "tags": [],
        "id": "-13sECI3xkg5"
      },
      "outputs": [],
      "source": [
        "cv = CountVectorizer()"
      ]
    },
    {
      "cell_type": "code",
      "execution_count": null,
      "metadata": {
        "tags": [],
        "id": "BuqyEGKCxkg5"
      },
      "outputs": [],
      "source": [
        "x_train = cv.fit_transform(xtrain)"
      ]
    },
    {
      "cell_type": "code",
      "execution_count": null,
      "metadata": {
        "tags": [],
        "id": "qJMFARkhxkg5"
      },
      "outputs": [],
      "source": [
        "x_train.toarray()"
      ]
    },
    {
      "cell_type": "markdown",
      "metadata": {
        "id": "2Gk9kdAYxkg5"
      },
      "source": [
        "### Apply Naive Bayes Classifiers Algorithm"
      ]
    },
    {
      "cell_type": "code",
      "execution_count": null,
      "metadata": {
        "tags": [],
        "id": "7pZAepmQxkg5"
      },
      "outputs": [],
      "source": [
        "from sklearn.naive_bayes import MultinomialNB"
      ]
    },
    {
      "cell_type": "code",
      "execution_count": null,
      "metadata": {
        "tags": [],
        "id": "ZgyT71axxkg5"
      },
      "outputs": [],
      "source": [
        "model = MultinomialNB()"
      ]
    },
    {
      "cell_type": "code",
      "execution_count": null,
      "metadata": {
        "tags": [],
        "id": "o1JejNRxxkg5"
      },
      "outputs": [],
      "source": [
        "model.fit(x_train,ytrain)"
      ]
    },
    {
      "cell_type": "code",
      "execution_count": null,
      "metadata": {
        "tags": [],
        "id": "MrK3HMTVxkg5"
      },
      "outputs": [],
      "source": [
        "x_test = cv.fit_transform(xtest)"
      ]
    },
    {
      "cell_type": "code",
      "execution_count": null,
      "metadata": {
        "tags": [],
        "id": "JBrp3F6Nxkg5"
      },
      "outputs": [],
      "source": [
        "x_test.toarray()"
      ]
    },
    {
      "cell_type": "code",
      "execution_count": null,
      "metadata": {
        "tags": [],
        "id": "SXVvv-4nxkg5"
      },
      "outputs": [],
      "source": [
        "model.score(x_train,ytrain)"
      ]
    }
  ],
  "metadata": {
    "kernelspec": {
      "display_name": "Python 3",
      "language": "python",
      "name": "python3"
    },
    "language_info": {
      "codemirror_mode": {
        "name": "ipython",
        "version": 3
      },
      "file_extension": ".py",
      "mimetype": "text/x-python",
      "name": "python",
      "nbconvert_exporter": "python",
      "pygments_lexer": "ipython3",
      "version": "3.8.10"
    },
    "colab": {
      "provenance": []
    }
  },
  "nbformat": 4,
  "nbformat_minor": 0
}