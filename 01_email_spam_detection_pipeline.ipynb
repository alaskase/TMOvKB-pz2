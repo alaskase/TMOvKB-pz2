{
  "cells": [
    {
      "cell_type": "code",
      "execution_count": null,
      "id": "rubber-spelling",
      "metadata": {
        "_cell_guid": "b1076dfc-b9ad-4769-8c92-a6c4dae69d19",
        "_uuid": "8f2839f25d086af736a60e9eeb907d3b93b6e0e5",
        "papermill": {
          "duration": 0.037089,
          "end_time": "2022-10-26T16:38:28.783199",
          "exception": false,
          "start_time": "2022-10-26T16:38:28.746110",
          "status": "completed"
        },
        "tags": [],
        "id": "rubber-spelling"
      },
      "outputs": [],
      "source": [
        "import numpy as np\n",
        "import pandas as pd # data processing, CSV file I/O (e.g. pd.read_csv)\n",
        "import os"
      ]
    },
    {
      "cell_type": "code",
      "execution_count": null,
      "id": "rising-qualification",
      "metadata": {
        "papermill": {
          "duration": 0.07946,
          "end_time": "2022-10-26T16:38:28.877758",
          "exception": false,
          "start_time": "2022-10-26T16:38:28.798298",
          "status": "completed"
        },
        "tags": [],
        "id": "rising-qualification"
      },
      "outputs": [],
      "source": [
        "data=pd.read_csv('spam.csv')\n",
        "data"
      ]
    },
    {
      "cell_type": "code",
      "execution_count": null,
      "id": "integrated-knowing",
      "metadata": {
        "papermill": {
          "duration": 0.025771,
          "end_time": "2022-10-26T16:38:28.919000",
          "exception": false,
          "start_time": "2022-10-26T16:38:28.893229",
          "status": "completed"
        },
        "tags": [],
        "id": "integrated-knowing"
      },
      "outputs": [],
      "source": [
        "data.columns"
      ]
    },
    {
      "cell_type": "code",
      "execution_count": null,
      "id": "romantic-lafayette",
      "metadata": {
        "papermill": {
          "duration": 0.039468,
          "end_time": "2022-10-26T16:38:28.974039",
          "exception": false,
          "start_time": "2022-10-26T16:38:28.934571",
          "status": "completed"
        },
        "tags": [],
        "id": "romantic-lafayette"
      },
      "outputs": [],
      "source": [
        "data.info()"
      ]
    },
    {
      "cell_type": "markdown",
      "id": "confirmed-importance",
      "metadata": {
        "papermill": {
          "duration": 0.01526,
          "end_time": "2022-10-26T16:38:29.005662",
          "exception": false,
          "start_time": "2022-10-26T16:38:28.990402",
          "status": "completed"
        },
        "tags": [],
        "id": "confirmed-importance"
      },
      "source": [
        "**Dropped The Column Unnamed: 0**"
      ]
    },
    {
      "cell_type": "code",
      "execution_count": null,
      "id": "surprised-hamilton",
      "metadata": {
        "papermill": {
          "duration": 0.029078,
          "end_time": "2022-10-26T16:38:29.050683",
          "exception": false,
          "start_time": "2022-10-26T16:38:29.021605",
          "status": "completed"
        },
        "tags": [],
        "id": "surprised-hamilton"
      },
      "outputs": [],
      "source": [
        "data.isna().sum()"
      ]
    },
    {
      "cell_type": "code",
      "execution_count": null,
      "id": "adolescent-species",
      "metadata": {
        "papermill": {
          "duration": 0.035122,
          "end_time": "2022-10-26T16:38:29.102118",
          "exception": false,
          "start_time": "2022-10-26T16:38:29.066996",
          "status": "completed"
        },
        "tags": [],
        "id": "adolescent-species"
      },
      "outputs": [],
      "source": [
        "data['Spam']=data['Category'].apply(lambda x:1 if x=='spam' else 0)\n",
        "data.head(5)"
      ]
    },
    {
      "cell_type": "code",
      "execution_count": null,
      "id": "obvious-grass",
      "metadata": {
        "papermill": {
          "duration": 0.973761,
          "end_time": "2022-10-26T16:38:30.092602",
          "exception": false,
          "start_time": "2022-10-26T16:38:29.118841",
          "status": "completed"
        },
        "tags": [],
        "id": "obvious-grass"
      },
      "outputs": [],
      "source": [
        "from sklearn.model_selection import train_test_split\n",
        "X_train,X_test,y_train,y_test=train_test_split(data.Message,data.Spam,test_size=0.25)"
      ]
    },
    {
      "cell_type": "code",
      "execution_count": null,
      "id": "contemporary-psychiatry",
      "metadata": {
        "papermill": {
          "duration": 0.038308,
          "end_time": "2022-10-26T16:38:30.147722",
          "exception": false,
          "start_time": "2022-10-26T16:38:30.109414",
          "status": "completed"
        },
        "tags": [],
        "id": "contemporary-psychiatry"
      },
      "outputs": [],
      "source": [
        "#CounterVectorizer Convert the text into matrics\n",
        "from sklearn.feature_extraction.text import CountVectorizer"
      ]
    },
    {
      "cell_type": "markdown",
      "id": "threatened-locking",
      "metadata": {
        "papermill": {
          "duration": 0.016064,
          "end_time": "2022-10-26T16:38:30.180686",
          "exception": false,
          "start_time": "2022-10-26T16:38:30.164622",
          "status": "completed"
        },
        "tags": [],
        "id": "threatened-locking"
      },
      "source": [
        "**Naive Bayes Have three Classifier(Bernouli,Multinominal,Gaussian)\n",
        "Here I use Multinominal Bayes Because here data in a discrete form\n",
        "discrete data(e.g movie ratings ranging  1 to 5 as each rating will have certain frequency to represent)**"
      ]
    },
    {
      "cell_type": "code",
      "execution_count": null,
      "id": "funny-reservoir",
      "metadata": {
        "papermill": {
          "duration": 0.027005,
          "end_time": "2022-10-26T16:38:30.224093",
          "exception": false,
          "start_time": "2022-10-26T16:38:30.197088",
          "status": "completed"
        },
        "tags": [],
        "id": "funny-reservoir"
      },
      "outputs": [],
      "source": [
        "from sklearn.naive_bayes import MultinomialNB"
      ]
    },
    {
      "cell_type": "code",
      "execution_count": null,
      "id": "divine-center",
      "metadata": {
        "papermill": {
          "duration": 0.027078,
          "end_time": "2022-10-26T16:38:30.267625",
          "exception": false,
          "start_time": "2022-10-26T16:38:30.240547",
          "status": "completed"
        },
        "tags": [],
        "id": "divine-center"
      },
      "outputs": [],
      "source": [
        "from sklearn.pipeline import Pipeline\n",
        "clf=Pipeline([\n",
        "    ('vectorizer',CountVectorizer()),\n",
        "    ('nb',MultinomialNB())\n",
        "])"
      ]
    },
    {
      "cell_type": "markdown",
      "id": "sealed-peter",
      "metadata": {
        "papermill": {
          "duration": 0.01623,
          "end_time": "2022-10-26T16:38:30.300585",
          "exception": false,
          "start_time": "2022-10-26T16:38:30.284355",
          "status": "completed"
        },
        "tags": [],
        "id": "sealed-peter"
      },
      "source": [
        "# Tarining The Model"
      ]
    },
    {
      "cell_type": "code",
      "execution_count": null,
      "id": "renewable-inquiry",
      "metadata": {
        "papermill": {
          "duration": 0.119809,
          "end_time": "2022-10-26T16:38:30.436860",
          "exception": false,
          "start_time": "2022-10-26T16:38:30.317051",
          "status": "completed"
        },
        "tags": [],
        "id": "renewable-inquiry"
      },
      "outputs": [],
      "source": [
        "clf.fit(X_train,y_train)"
      ]
    },
    {
      "cell_type": "markdown",
      "id": "agricultural-violation",
      "metadata": {
        "papermill": {
          "duration": 0.017191,
          "end_time": "2022-10-26T16:38:30.471262",
          "exception": false,
          "start_time": "2022-10-26T16:38:30.454071",
          "status": "completed"
        },
        "tags": [],
        "id": "agricultural-violation"
      },
      "source": [
        "**Here I given Two email Two detect 1st One is looking good and the other one looking spam**"
      ]
    },
    {
      "cell_type": "code",
      "execution_count": null,
      "id": "ranking-radio",
      "metadata": {
        "papermill": {
          "duration": 0.023755,
          "end_time": "2022-10-26T16:38:30.511903",
          "exception": false,
          "start_time": "2022-10-26T16:38:30.488148",
          "status": "completed"
        },
        "tags": [],
        "id": "ranking-radio"
      },
      "outputs": [],
      "source": [
        "emails=[\n",
        "    'Sounds great! Are you home now?',\n",
        "    'Will u meet ur dream partner soon? Is ur career off 2 a flyng start? 2 find out free, txt HORO followed by ur star sign, e. g. HORO ARIES'\n",
        "]"
      ]
    },
    {
      "cell_type": "markdown",
      "id": "broad-baptist",
      "metadata": {
        "papermill": {
          "duration": 0.016586,
          "end_time": "2022-10-26T16:38:30.545982",
          "exception": false,
          "start_time": "2022-10-26T16:38:30.529396",
          "status": "completed"
        },
        "tags": [],
        "id": "broad-baptist"
      },
      "source": [
        "**Predict Email**"
      ]
    },
    {
      "cell_type": "code",
      "execution_count": null,
      "id": "czech-symphony",
      "metadata": {
        "papermill": {
          "duration": 0.027069,
          "end_time": "2022-10-26T16:38:30.590324",
          "exception": false,
          "start_time": "2022-10-26T16:38:30.563255",
          "status": "completed"
        },
        "tags": [],
        "id": "czech-symphony"
      },
      "outputs": [],
      "source": [
        "clf.predict(emails)"
      ]
    },
    {
      "cell_type": "markdown",
      "id": "economic-program",
      "metadata": {
        "papermill": {
          "duration": 0.01672,
          "end_time": "2022-10-26T16:38:30.625156",
          "exception": false,
          "start_time": "2022-10-26T16:38:30.608436",
          "status": "completed"
        },
        "tags": [],
        "id": "economic-program"
      },
      "source": [
        "# Prediction Of Model"
      ]
    },
    {
      "cell_type": "code",
      "execution_count": null,
      "id": "daily-location",
      "metadata": {
        "papermill": {
          "duration": 0.05098,
          "end_time": "2022-10-26T16:38:30.693900",
          "exception": false,
          "start_time": "2022-10-26T16:38:30.642920",
          "status": "completed"
        },
        "tags": [],
        "id": "daily-location"
      },
      "outputs": [],
      "source": [
        "clf.score(X_test,y_test)"
      ]
    }
  ],
  "metadata": {
    "kernelspec": {
      "display_name": "Python 3",
      "language": "python",
      "name": "python3"
    },
    "language_info": {
      "codemirror_mode": {
        "name": "ipython",
        "version": 3
      },
      "file_extension": ".py",
      "mimetype": "text/x-python",
      "name": "python",
      "nbconvert_exporter": "python",
      "pygments_lexer": "ipython3",
      "version": "3.8.10"
    },
    "papermill": {
      "default_parameters": {},
      "duration": 10.847266,
      "end_time": "2022-10-26T16:38:31.523672",
      "environment_variables": {},
      "exception": null,
      "input_path": "__notebook__.ipynb",
      "output_path": "__notebook__.ipynb",
      "parameters": {},
      "start_time": "2022-10-26T16:38:20.676406",
      "version": "2.3.3"
    },
    "colab": {
      "provenance": []
    }
  },
  "nbformat": 4,
  "nbformat_minor": 5
}